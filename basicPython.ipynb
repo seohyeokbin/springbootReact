{
 "cells": [
  {
   "cell_type": "code",
   "execution_count": 7,
   "id": "162cfe49-3382-4ea1-984a-f709c00226da",
   "metadata": {},
   "outputs": [],
   "source": [
    "a=6"
   ]
  },
  {
   "cell_type": "markdown",
   "id": "0ef681e2-2f10-4880-b172-a0e833bd1a8d",
   "metadata": {},
   "source": [
    "<h1>사랑</h1>\n",
    "<h4>딕셔너리는 키와 value의 쌍으로 이루어진 데이터 => 자바스크립트의 객체와 동일</h4>"
   ]
  },
  {
   "cell_type": "code",
   "execution_count": 8,
   "id": "e4aed515-a2c0-4e47-a421-87adc379f82a",
   "metadata": {},
   "outputs": [],
   "source": [
    "a = {'a':6} # dictionary 객체"
   ]
  },
  {
   "cell_type": "code",
   "execution_count": 9,
   "id": "b8c5640e-f719-464e-958e-4dcde0379d70",
   "metadata": {},
   "outputs": [],
   "source": [
    "b = [1,2,4] # 리스트"
   ]
  },
  {
   "cell_type": "code",
   "execution_count": 14,
   "id": "24282a16-ca14-49c9-ae77-f76188e8dd90",
   "metadata": {},
   "outputs": [],
   "source": [
    "a['b'] = 13\n",
    "a"
   ]
  },
  {
   "cell_type": "markdown",
   "id": "124d3f48-52f0-46d2-b34b-995192b9729c",
   "metadata": {},
   "source": [
    "<a href=\"https://pynative.com/wp-content/uploads/2021/02/dictionaries-in-python.jpg\">dictionary</a>"
   ]
  },
  {
   "cell_type": "markdown",
   "id": "0a72dc3b-0b23-4b98-8718-7c838c766f96",
   "metadata": {},
   "source": [
    "<img src = \"images/1.jpg\"/>"
   ]
  },
  {
   "cell_type": "code",
   "execution_count": null,
   "id": "2c259b03-ff5e-4e4e-a9f8-37fb1d81e62f",
   "metadata": {},
   "outputs": [],
   "source": []
  }
 ],
 "metadata": {
  "kernelspec": {
   "display_name": "Python 3 (ipykernel)",
   "language": "python",
   "name": "python3"
  },
  "language_info": {
   "codemirror_mode": {
    "name": "ipython",
    "version": 3
   },
   "file_extension": ".py",
   "mimetype": "text/x-python",
   "name": "python",
   "nbconvert_exporter": "python",
   "pygments_lexer": "ipython3",
   "version": "3.12.7"
  }
 },
 "nbformat": 4,
 "nbformat_minor": 5
}
